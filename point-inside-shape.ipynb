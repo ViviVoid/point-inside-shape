{
 "cells": [
  {
   "cell_type": "markdown",
   "id": "92be08d6",
   "metadata": {},
   "source": [
    "# Programming Assignment 1: Point Inside Shape\n",
    "## Members: Andy Dao, Mikhail Filippov, Patrick Saxton\n",
    "\n",
    "In this assignment, we are to solve a computation problem of detecting if a given point is inside a shape, and write the algorithm associated with that solution. We are then to analyze the algorithm through a series of techniques learned in class, include testing, proving correctness, and solving for running time."
   ]
  },
  {
   "cell_type": "code",
   "execution_count": 112,
   "id": "7d73fada",
   "metadata": {},
   "outputs": [],
   "source": [
    "#imports\n",
    "import dill"
   ]
  },
  {
   "cell_type": "code",
   "execution_count": null,
   "id": "546e8427",
   "metadata": {},
   "outputs": [],
   "source": [
    "# load session\n",
    "# run if loading saved session\n",
    "dill.load_session('notebook.db')"
   ]
  },
  {
   "cell_type": "markdown",
   "id": "5efb3ef10a75a7e",
   "metadata": {},
   "source": [
    "### Pseudocode\n",
    "```plaintext\n",
    "FUNCTION SegmentCheck(p1, p2, p):\n",
    "    IF (p.x < MIN(p1.x, p2.x) OR p.x > MAX(p1.x, p2.x) OR\n",
    "        p.y < MIN(p1.y, p2.y) OR p.y > MAX(p1.y, p2.y)) THEN\n",
    "        RETURN False\n",
    "    END IF\n",
    "\n",
    "    IF p1.x == p2.x THEN\n",
    "        RETURN (p.x == p1.x)\n",
    "    END IF\n",
    "\n",
    "    IF p1.y == p2.y THEN\n",
    "        RETURN (p.y == p1.y)\n",
    "    END IF\n",
    "\n",
    "    IF (p.x - p1.x) * (p2.y - p1.y) == (p.y - p1.y) * (p2.x - p1.x) THEN\n",
    "        RETURN True\n",
    "    ELSE\n",
    "        RETURN False\n",
    "    END IF\n",
    "END FUNCTION\n",
    "\n",
    "\n",
    "FUNCTION CheckIntersection(p1, p2, x, y):\n",
    "    IF ( (p1.y > y AND p2.y > y) OR (p1.y <= y AND p2.y <= y) ) THEN\n",
    "        RETURN False\n",
    "    END IF\n",
    "\n",
    "    x_intersection = p1.x + (y - p1.y) * (p2.x - p1.x) / (p2.y - p1.y)\n",
    "\n",
    "    RETURN (x <= x_intersection)\n",
    "END FUNCTION\n",
    "\n",
    "\n",
    "FUNCTION PointInPolygon(point, polygon):\n",
    "    IF (LENGTH(polygon) < 3) THEN\n",
    "        RAISE ERROR \"The list of polygon points must have at least 3 points\"\n",
    "    END IF\n",
    "\n",
    "    inside = False\n",
    "    num_vertices = LENGTH(polygon)\n",
    "    (x, y) = (point.x, point.y)\n",
    "    p1 = polygon[0]\n",
    "\n",
    "    FOR i FROM 1 TO num_vertices:\n",
    "        p2 = polygon[i MOD num_vertices]\n",
    "\n",
    "        IF PointOnSegment(p1, p2, point) THEN\n",
    "            RETURN True\n",
    "        END IF\n",
    "\n",
    "        IF CheckIntersection(p1, p2, x, y) THEN\n",
    "            inside = NOT inside\n",
    "        END IF\n",
    "\n",
    "        p1 = p2\n",
    "    END FOR\n",
    "\n",
    "    RETURN inside\n",
    "END FUNCTION\n",
    "```"
   ]
  },
  {
   "cell_type": "markdown",
   "id": "9dbf8ea6",
   "metadata": {},
   "source": [
    "### Algorithm Implemented:"
   ]
  },
  {
   "cell_type": "code",
   "execution_count": 113,
   "id": "d4d43cb238006b5e",
   "metadata": {
    "ExecuteTime": {
     "end_time": "2025-02-23T19:53:54.235346Z",
     "start_time": "2025-02-23T19:53:54.225459Z"
    }
   },
   "outputs": [],
   "source": [
    "from typing import List, Tuple\n",
    "\n",
    "class Point:\n",
    "    def __init__(self, x: float, y: float):\n",
    "        self.x = x\n",
    "        self.y = y\n",
    "\n",
    "def point_on_segment(p1: Point, p2: Point, p: Point) -> bool:\n",
    "    if not (min(p1.x, p2.x) <= p.x <= max(p1.x, p2.x) and min(p1.y, p2.y) <= p.y <= max(p1.y, p2.y)):\n",
    "        return False\n",
    "\n",
    "    if p1.x == p2.x:\n",
    "        return p.x == p1.x\n",
    "    if p1.y == p2.y:\n",
    "        return p.y == p1.y\n",
    "\n",
    "    return (p.x - p1.x) * (p2.y - p1.y) == (p.y - p1.y) * (p2.x - p1.x)\n",
    "\n",
    "def check_intersection(p1: Point, p2: Point, x: float, y: float) -> bool:\n",
    "    if (p1.y > y) == (p2.y > y):\n",
    "        return False\n",
    "\n",
    "    x_intersection = p1.x + (y - p1.y) * (p2.x - p1.x) / (p2.y - p1.y)\n",
    "\n",
    "    return x <= x_intersection\n",
    "\n",
    "def point_in_polygon(point: Point, polygon: List[Point]) -> bool:\n",
    "    if len(polygon) < 3:\n",
    "        raise ValueError(\"The list of polygon points must have at least 3 points\")\n",
    "\n",
    "    num_of_vertices = len(polygon)\n",
    "    x, y = point.x, point.y\n",
    "    inside = False\n",
    "\n",
    "    p1 = polygon[0]\n",
    "\n",
    "    for i in range(1, num_of_vertices + 1):\n",
    "        p2 = polygon[i % num_of_vertices]\n",
    "\n",
    "        if point_on_segment(p1, p2, point):\n",
    "            return True\n",
    "\n",
    "        if check_intersection(p1, p2, x, y):\n",
    "            inside = not inside\n",
    "\n",
    "        p1 = p2\n",
    "\n",
    "    return inside"
   ]
  },
  {
   "cell_type": "markdown",
   "id": "7daf90eb",
   "metadata": {},
   "source": [
    "### Testing Suite:"
   ]
  },
  {
   "cell_type": "code",
   "execution_count": 114,
   "id": "dae0172a1cd02509",
   "metadata": {
    "ExecuteTime": {
     "end_time": "2025-02-23T19:53:56.426286Z",
     "start_time": "2025-02-23T19:53:56.377466Z"
    }
   },
   "outputs": [
    {
     "name": "stderr",
     "output_type": "stream",
     "text": [
      "...................\n",
      "----------------------------------------------------------------------\n",
      "Ran 19 tests in 0.010s\n",
      "\n",
      "OK\n"
     ]
    }
   ],
   "source": [
    "import unittest\n",
    "\n",
    "class TestGeometry(unittest.TestCase):\n",
    "\n",
    "    def test_point_inside_polygon(self):\n",
    "        polygon = [Point(0, 0), Point(4, 0), Point(4, 4), Point(0, 4)]\n",
    "        point = Point(2, 2)\n",
    "        self.assertTrue(point_in_polygon(point, polygon))\n",
    "\n",
    "    def test_point_outside_polygon(self):\n",
    "        polygon = [Point(0, 0), Point(4, 0), Point(4, 4), Point(0, 4)]\n",
    "        point = Point(5, 5)\n",
    "        self.assertFalse(point_in_polygon(point, polygon))\n",
    "\n",
    "    def test_point_on_edge_of_polygon(self):\n",
    "        polygon = [Point(0, 0), Point(4, 0), Point(4, 4), Point(0, 4)]\n",
    "        point = Point(4, 2)\n",
    "        self.assertTrue(point_in_polygon(point, polygon))\n",
    "\n",
    "    def test_polygon_with_less_than_three_points(self):\n",
    "        polygon = [Point(0, 0), Point(4, 0)]\n",
    "        point = Point(2, 2)\n",
    "        with self.assertRaises(ValueError):\n",
    "            point_in_polygon(point, polygon)\n",
    "\n",
    "    def test_point_on_horizontal_segment(self):\n",
    "        p1 = Point(0, 0)\n",
    "        p2 = Point(4, 0)\n",
    "        p = Point(2, 0)\n",
    "        self.assertTrue(point_on_segment(p1, p2, p))\n",
    "\n",
    "    def test_point_on_vertical_segment(self):\n",
    "        p1 = Point(0, 0)\n",
    "        p2 = Point(0, 4)\n",
    "        p = Point(0, 2)\n",
    "        self.assertTrue(point_on_segment(p1, p2, p))\n",
    "\n",
    "    def test_point_on_diagonal_segment(self):\n",
    "        p1 = Point(0, 0)\n",
    "        p2 = Point(4, 4)\n",
    "        p = Point(2, 2)\n",
    "        self.assertTrue(point_on_segment(p1, p2, p))\n",
    "\n",
    "    def test_point_not_on_segment(self):\n",
    "        p1 = Point(0, 0)\n",
    "        p2 = Point(4, 4)\n",
    "        p = Point(3, 2)\n",
    "        self.assertFalse(point_on_segment(p1, p2, p))\n",
    "\n",
    "    def test_point_outside_segment_bounds(self):\n",
    "        p1 = Point(0, 0)\n",
    "        p2 = Point(4, 4)\n",
    "        p = Point(5, 5)\n",
    "        self.assertFalse(point_on_segment(p1, p2, p))\n",
    "\n",
    "    def test_intersection_within_bounds(self):\n",
    "        p1 = Point(0, 0)\n",
    "        p2 = Point(4, 4)\n",
    "        self.assertTrue(check_intersection(p1, p2, 2, 2))\n",
    "\n",
    "    def test_intersection_outside_bounds(self):\n",
    "        p1 = Point(0, 0)\n",
    "        p2 = Point(4, 4)\n",
    "        self.assertFalse(check_intersection(p1, p2, 5, 5))\n",
    "\n",
    "    def test_intersection_on_horizontal_edge(self):\n",
    "        p1 = Point(0, 0)\n",
    "        p2 = Point(4, 0)\n",
    "        self.assertFalse(check_intersection(p1, p2, 2, 0))\n",
    "\n",
    "    def test_point_inside_concave_polygon(self):\n",
    "        polygon = [Point(0, 0), Point(4, 0), Point(4, 4), Point(2, 2), Point(0, 4)]\n",
    "        point = Point(1, 1)\n",
    "        self.assertTrue(point_in_polygon(point, polygon))\n",
    "\n",
    "    def test_point_outside_concave_polygon(self):\n",
    "        polygon = [Point(0, 0), Point(4, 0), Point(4, 4), Point(2, 2), Point(0, 4)]\n",
    "        point = Point(3, 3)\n",
    "        self.assertTrue(point_in_polygon(point, polygon))\n",
    "\n",
    "    def test_point_inside_complex_polygon(self):\n",
    "        polygon = [Point(2, 6), Point(0, 4), Point(1, 1), Point(3, 0), Point(5, 2), Point(4, 4), Point(2, 3)]\n",
    "        point = Point(2, 2)\n",
    "        self.assertTrue(point_in_polygon(point, polygon))\n",
    "\n",
    "    def test_point_outside_complex_polygon(self):\n",
    "        polygon = [Point(2, 6), Point(0, 4), Point(1, 1), Point(3, 0), Point(5, 2), Point(4, 4), Point(2, 3)]\n",
    "        point = Point(5, 5)\n",
    "        self.assertFalse(point_in_polygon(point, polygon))\n",
    "\n",
    "    def test_point_on_edge_complex_polygon(self):\n",
    "        polygon = [Point(2, 6), Point(0, 4), Point(1, 1), Point(3, 0), Point(5, 2), Point(4, 4), Point(2, 3)]\n",
    "        point = Point(2, 4)\n",
    "        self.assertTrue(point_in_polygon(point, polygon))\n",
    "\n",
    "    def test_point_on_vertex_complex_polygon(self):\n",
    "        polygon = [Point(2, 6), Point(0, 4), Point(1, 1), Point(3, 0), Point(5, 2), Point(4, 4), Point(2, 3)]\n",
    "        point = Point(2, 6)\n",
    "        self.assertTrue(point_in_polygon(point, polygon))\n",
    "\n",
    "    def test_point_near_edge_but_outside(self):\n",
    "        polygon = [Point(2, 6), Point(0, 4), Point(1, 1), Point(3, 0), Point(5, 2), Point(4, 4), Point(2, 3)]\n",
    "        point = Point(2, 6.1)\n",
    "        self.assertFalse(point_in_polygon(point, polygon))\n",
    "\n",
    "if __name__ == \"__main__\":\n",
    "    unittest.main(argv=[''], exit=False)"
   ]
  },
  {
   "cell_type": "markdown",
   "id": "4b985b43",
   "metadata": {},
   "source": [
    "### General Form of Usage:"
   ]
  },
  {
   "cell_type": "code",
   "execution_count": 115,
   "id": "2493162425c60d43",
   "metadata": {
    "ExecuteTime": {
     "end_time": "2025-02-23T19:54:01.060450Z",
     "start_time": "2025-02-23T19:54:01.056366Z"
    }
   },
   "outputs": [
    {
     "name": "stdout",
     "output_type": "stream",
     "text": [
      "Point is inside the polygon\n"
     ]
    }
   ],
   "source": [
    "if __name__ == \"__main__\":\n",
    "    test_point = Point(176, 100)\n",
    "\n",
    "    polygon_points = [\n",
    "        Point(186, 14),\n",
    "        Point(186, 44),\n",
    "        Point(175, 115),\n",
    "        Point(175, 85)\n",
    "    ]\n",
    "\n",
    "    print(\"Point is inside the polygon\" if point_in_polygon(test_point, polygon_points) else \"Point is outside the polygon\")"
   ]
  },
  {
   "cell_type": "markdown",
   "id": "2709b5e4",
   "metadata": {},
   "source": [
    "### Asymptotic Worst-Case Analysis\n",
    "-------------------\n",
    "Given the main function of the algorithm, `point_in_polygon()`, relies on helper functions, we must first analyze those:\n",
    "- `point_on_segment()`: This function does not do anything demanding and runs in constant time, given that it is a series of `if` statements with calls to `min()` and `max()`, which also compare two objects in constant time. This gives this helper an O(1).\n",
    "- `check_intersection()`: As with the above function, this function has even less instructions; it includes simple `if` logic and addition and subtraction statements. This gives this helper an O(1).\n",
    "\n",
    "With these in mind, we can now move on to `point_in_polygon()`. The function is as follows:\n",
    "\n",
    "-------------------\n",
    "```py\n",
    "def point_in_polygon(point: Point, polygon: List[Point]) -> bool:\n",
    "    if len(polygon) < 3:\n",
    "        raise ValueError(\"The list of polygon points must have at least 3 points\")\n",
    "\n",
    "    num_of_vertices = len(polygon)\n",
    "    x, y = point.x, point.y\n",
    "    inside = False\n",
    "\n",
    "    p1 = polygon[0]\n",
    "\n",
    "```\n",
    "-------------------\n",
    "Up to this point, all operations above this statement have been constant time, so we can reduce them to O(1).\n",
    "\n",
    "-------------------\n",
    "\n",
    "```py\n",
    "    for i in range(1, num_of_vertices + 1):\n",
    "        p2 = polygon[i % num_of_vertices]\n",
    "\n",
    "        if point_on_segment(p1, p2, point):\n",
    "            return True\n",
    "\n",
    "        if check_intersection(p1, p2, x, y):\n",
    "            inside = not inside\n",
    "\n",
    "        p1 = p2\n",
    "\n",
    "    return inside\n",
    "```\n",
    "-------------------\n",
    "We can see the above `for` loop runs for *n* number of times, where *n* represents the number of vertices on the bounding shape. Because we have stated that both `point_on_segment()` and `check_intersection()` are O(1), we know that there are no more statements within this `for` loop that will raise the time any more.\n",
    "\n",
    "#### **Therefore, the worst-case of our function is O(n).**\n",
    "\n",
    "-------------------"
   ]
  },
  {
   "cell_type": "markdown",
   "id": "1b17323a",
   "metadata": {},
   "source": [
    "### Benchmarking:"
   ]
  },
  {
   "cell_type": "code",
   "execution_count": 116,
   "id": "47750330",
   "metadata": {},
   "outputs": [],
   "source": [
    "import matplotlib.pyplot as plt\n",
    "import pandas as pd\n",
    "import numpy as np\n",
    "import time\n",
    "from tqdm import tqdm\n",
    "import random\n",
    "from scipy.stats import linregress"
   ]
  },
  {
   "cell_type": "code",
   "execution_count": 117,
   "id": "4fa7b2ac",
   "metadata": {},
   "outputs": [],
   "source": [
    "def benchmark(point: Point, points: List[Point]):\n",
    "    start = time.perf_counter()\n",
    "    point_in_polygon(point, points)\n",
    "    end = time.perf_counter()\n",
    "    return (end - start)"
   ]
  },
  {
   "cell_type": "code",
   "execution_count": 118,
   "id": "b1383546",
   "metadata": {},
   "outputs": [
    {
     "name": "stderr",
     "output_type": "stream",
     "text": [
      "100%|██████████| 101/101 [00:06<00:00, 16.02it/s]\n"
     ]
    }
   ],
   "source": [
    "test_point = Point(100, 100)\n",
    "n = [5+1000*x for x in range(101)]\n",
    "times = []\n",
    "for i in tqdm(n):\n",
    "    random_x = random.randint(0, 200)\n",
    "    random_y = random.randint(0, 200)\n",
    "    points = [Point(random_x, random_y) for x in range(i)]\n",
    "    times.append(benchmark(test_point, points))"
   ]
  },
  {
   "cell_type": "code",
   "execution_count": 119,
   "id": "668a4b86",
   "metadata": {},
   "outputs": [
    {
     "data": {
      "text/plain": [
       "Text(0.5, 1.0, 'Performance of the point_in_polygon function')"
      ]
     },
     "execution_count": 119,
     "metadata": {},
     "output_type": "execute_result"
    },
    {
     "data": {
      "image/png": "[encoded data removed]",
      "text/plain": [
       "<Figure size 640x480 with 1 Axes>"
      ]
     },
     "metadata": {},
     "output_type": "display_data"
    }
   ],
   "source": [
    "plt.plot(n, times)\n",
    "plt.xlabel(\"N / Number of vertcies\")\n",
    "plt.ylabel(\"Time (s)\")\n",
    "plt.title(\"Performance of the point_in_polygon function\")"
   ]
  },
  {
   "cell_type": "code",
   "execution_count": 121,
   "id": "86fd5e14",
   "metadata": {},
   "outputs": [
    {
     "name": "stdout",
     "output_type": "stream",
     "text": [
      "Data Table for N vs Time\n"
     ]
    },
    {
     "data": {
      "text/html": [
       "<div>\n",
       "<style scoped>\n",
       "    .dataframe tbody tr th:only-of-type {\n",
       "        vertical-align: middle;\n",
       "    }\n",
       "\n",
       "    .dataframe tbody tr th {\n",
       "        vertical-align: top;\n",
       "    }\n",
       "\n",
       "    .dataframe thead th {\n",
       "        text-align: right;\n",
       "    }\n",
       "</style>\n",
       "<table border=\"1\" class=\"dataframe\">\n",
       "  <thead>\n",
       "    <tr style=\"text-align: right;\">\n",
       "      <th></th>\n",
       "      <th>n</th>\n",
       "      <th>time</th>\n",
       "    </tr>\n",
       "  </thead>\n",
       "  <tbody>\n",
       "    <tr>\n",
       "      <th>0</th>\n",
       "      <td>5</td>\n",
       "      <td>0.000016</td>\n",
       "    </tr>\n",
       "    <tr>\n",
       "      <th>1</th>\n",
       "      <td>1005</td>\n",
       "      <td>0.000285</td>\n",
       "    </tr>\n",
       "    <tr>\n",
       "      <th>2</th>\n",
       "      <td>2005</td>\n",
       "      <td>0.000408</td>\n",
       "    </tr>\n",
       "    <tr>\n",
       "      <th>3</th>\n",
       "      <td>3005</td>\n",
       "      <td>0.000631</td>\n",
       "    </tr>\n",
       "    <tr>\n",
       "      <th>4</th>\n",
       "      <td>4005</td>\n",
       "      <td>0.000823</td>\n",
       "    </tr>\n",
       "    <tr>\n",
       "      <th>...</th>\n",
       "      <td>...</td>\n",
       "      <td>...</td>\n",
       "    </tr>\n",
       "    <tr>\n",
       "      <th>96</th>\n",
       "      <td>96005</td>\n",
       "      <td>0.019329</td>\n",
       "    </tr>\n",
       "    <tr>\n",
       "      <th>97</th>\n",
       "      <td>97005</td>\n",
       "      <td>0.018289</td>\n",
       "    </tr>\n",
       "    <tr>\n",
       "      <th>98</th>\n",
       "      <td>98005</td>\n",
       "      <td>0.019805</td>\n",
       "    </tr>\n",
       "    <tr>\n",
       "      <th>99</th>\n",
       "      <td>99005</td>\n",
       "      <td>0.026629</td>\n",
       "    </tr>\n",
       "    <tr>\n",
       "      <th>100</th>\n",
       "      <td>100005</td>\n",
       "      <td>0.020908</td>\n",
       "    </tr>\n",
       "  </tbody>\n",
       "</table>\n",
       "<p>101 rows × 2 columns</p>\n",
       "</div>"
      ],
      "text/plain": [
       "          n      time\n",
       "0         5  0.000016\n",
       "1      1005  0.000285\n",
       "2      2005  0.000408\n",
       "3      3005  0.000631\n",
       "4      4005  0.000823\n",
       "..      ...       ...\n",
       "96    96005  0.019329\n",
       "97    97005  0.018289\n",
       "98    98005  0.019805\n",
       "99    99005  0.026629\n",
       "100  100005  0.020908\n",
       "\n",
       "[101 rows x 2 columns]"
      ]
     },
     "execution_count": 121,
     "metadata": {},
     "output_type": "execute_result"
    }
   ],
   "source": [
    "data = pd.DataFrame({\"n\": n, \"time\": times})\n",
    "print(\"Data Table for N vs Time\")\n",
    "data"
   ]
  },
  {
   "cell_type": "code",
   "execution_count": 122,
   "id": "db54b1a4",
   "metadata": {},
   "outputs": [
    {
     "name": "stdout",
     "output_type": "stream",
     "text": [
      "Estimated slope: 0.860386622866154\n"
     ]
    }
   ],
   "source": [
    "# Estimate the slope of a linear regression on our benchmarking\n",
    "slope, intercept, r_value, p_value, std_err = linregress(np.log(n), np.log(times))\n",
    "print(f\"Estimated slope: {slope}\")"
   ]
  },
  {
   "cell_type": "markdown",
   "id": "e911c1cd",
   "metadata": {},
   "source": [
    "### Benchmarking Comparison\n",
    "With our theoretical run-time of **O(n)**, we can compare that to what our benchmark results produced. We can see that the **slope** calculated from the fitted linear regression is < 1. As such, we know that the benchmark ran **sub-linearly**, yet close to linear.\n",
    "\n",
    "This can hold up with our theoretical **O(n)**, as O notation is an *upper* bound on time complexity. As such, it makes sense for an actual benchmark to show something slightly below that, validating our theoretical **O(n)**.\n",
    "\n",
    "Furthermore on a side note, we can see that purely by visuals on the graph, there is a positive *linear* trend for the data points; as n increases, so does the time in a linear fashion."
   ]
  },
  {
   "cell_type": "code",
   "execution_count": 123,
   "id": "011c5b4d",
   "metadata": {},
   "outputs": [],
   "source": [
    "# save session variables\n",
    "dill.dump_session('notebook.db')"
   ]
  }
 ],
 "metadata": {
  "kernelspec": {
   "display_name": ".venv",
   "language": "python",
   "name": "python3"
  },
  "language_info": {
   "codemirror_mode": {
    "name": "ipython",
    "version": 3
   },
   "file_extension": ".py",
   "mimetype": "text/x-python",
   "name": "python",
   "nbconvert_exporter": "python",
   "pygments_lexer": "ipython3",
   "version": "3.12.9"
  }
 },
 "nbformat": 4,
 "nbformat_minor": 5
}
